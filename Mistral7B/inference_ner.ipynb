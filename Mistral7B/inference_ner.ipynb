{
  "metadata": {
    "kernelspec": {
      "language": "python",
      "display_name": "Python 3",
      "name": "python3"
    },
    "language_info": {
      "name": "python",
      "version": "3.10.13",
      "mimetype": "text/x-python",
      "codemirror_mode": {
        "name": "ipython",
        "version": 3
      },
      "pygments_lexer": "ipython3",
      "nbconvert_exporter": "python",
      "file_extension": ".py"
    },
    "kaggle": {
      "accelerator": "nvidiaTeslaT4",
      "dataSources": [],
      "dockerImageVersionId": 30683,
      "isInternetEnabled": true,
      "language": "python",
      "sourceType": "notebook",
      "isGpuEnabled": true
    },
    "colab": {
      "provenance": []
    }
  },
  "nbformat_minor": 0,
  "nbformat": 4,
  "cells": [
    {
      "cell_type": "code",
      "source": [
        "#%%capture\n",
        "!pip install bitsandbytes\n",
        "!pip install transformers==4.34.0\n",
        "!pip install -U peft\n",
        "!pip install accelerate\n",
        "!pip install -U trl\n",
        "!pip install datasets==2.16.0\n",
        "!pip install wandb"
      ],
      "metadata": {
        "execution": {
          "iopub.status.busy": "2024-04-08T22:06:59.184980Z",
          "iopub.execute_input": "2024-04-08T22:06:59.185526Z",
          "iopub.status.idle": "2024-04-08T22:08:58.284308Z",
          "shell.execute_reply.started": "2024-04-08T22:06:59.185494Z",
          "shell.execute_reply": "2024-04-08T22:08:58.283077Z"
        },
        "trusted": true,
        "id": "A8etjd2Qpqev"
      },
      "execution_count": null,
      "outputs": []
    },
    {
      "cell_type": "code",
      "source": [
        "from transformers import AutoModelForCausalLM, AutoTokenizer, BitsAndBytesConfig,HfArgumentParser,TrainingArguments,pipeline, logging\n",
        "from peft import LoraConfig, PeftModel, prepare_model_for_kbit_training, get_peft_model\n",
        "import os,torch\n",
        "from datasets import load_dataset\n",
        "from trl import SFTTrainer"
      ],
      "metadata": {
        "execution": {
          "iopub.status.busy": "2024-04-08T22:08:58.285943Z",
          "iopub.execute_input": "2024-04-08T22:08:58.286817Z",
          "iopub.status.idle": "2024-04-08T22:09:29.912421Z",
          "shell.execute_reply.started": "2024-04-08T22:08:58.286779Z",
          "shell.execute_reply": "2024-04-08T22:09:29.911436Z"
        },
        "trusted": true,
        "id": "XsWHmNpmpqew"
      },
      "execution_count": null,
      "outputs": []
    },
    {
      "cell_type": "code",
      "source": [
        "from transformers import AutoModelForCausalLM, AutoTokenizer,pipeline\n",
        "from peft import PeftModel\n",
        "import torch"
      ],
      "metadata": {
        "execution": {
          "iopub.status.busy": "2024-04-08T22:09:29.914980Z",
          "iopub.execute_input": "2024-04-08T22:09:29.915705Z",
          "iopub.status.idle": "2024-04-08T22:09:29.920238Z",
          "shell.execute_reply.started": "2024-04-08T22:09:29.915672Z",
          "shell.execute_reply": "2024-04-08T22:09:29.919367Z"
        },
        "trusted": true,
        "id": "WvLeCx7Kpqew"
      },
      "execution_count": null,
      "outputs": []
    },
    {
      "cell_type": "code",
      "source": [
        "pipe = pipeline(\n",
        "    \"text-generation\",\n",
        "    model=\"DataIntelligenceTeam/mistral_7B_NER\",\n",
        "    #tokenizer = tokenizer,\n",
        "    torch_dtype=torch.bfloat16,\n",
        "    device_map=\"auto\"\n",
        ")"
      ],
      "metadata": {
        "execution": {
          "iopub.status.busy": "2024-04-08T22:09:29.921758Z",
          "iopub.execute_input": "2024-04-08T22:09:29.922043Z",
          "iopub.status.idle": "2024-04-08T22:11:39.824804Z",
          "shell.execute_reply.started": "2024-04-08T22:09:29.922020Z",
          "shell.execute_reply": "2024-04-08T22:11:39.823991Z"
        },
        "trusted": true,
        "colab": {
          "referenced_widgets": [
            "e4809a21a06948818b598d0a1b86b1f7",
            "022771b865cd482cb65c33ce33b65b36",
            "eb3bccfa4d49492c9ad2e7faac7b9a75",
            "960a7c45694a41f285a871838d0dca2a",
            "90b272295f034d80a44e7d8fad2dd2f0",
            "8dea52907ef1411ea8a10bba92b36b20",
            "c3b97f58f72a4efc9ee7df97039c4db5",
            "b800ead626fc4b119c10ef8126c25ea0",
            "654977307ab54c8089bde373c3e97069",
            "3d68864a879644e68b9bb762cae517d5",
            "3ccf954e4e50496e919228c2394679c7",
            "7af3a91e1776488397409152759e35cc"
          ]
        },
        "id": "DcMW6SeMpqew",
        "outputId": "b6d6b8f9-5f2b-4a3b-e418-7b78ec5041fc"
      },
      "execution_count": null,
      "outputs": [
        {
          "output_type": "display_data",
          "data": {
            "text/plain": "adapter_config.json:   0%|          | 0.00/695 [00:00<?, ?B/s]",
            "application/vnd.jupyter.widget-view+json": {
              "version_major": 2,
              "version_minor": 0,
              "model_id": "e4809a21a06948818b598d0a1b86b1f7"
            }
          },
          "metadata": {}
        },
        {
          "output_type": "display_data",
          "data": {
            "text/plain": "config.json:   0%|          | 0.00/571 [00:00<?, ?B/s]",
            "application/vnd.jupyter.widget-view+json": {
              "version_major": 2,
              "version_minor": 0,
              "model_id": "022771b865cd482cb65c33ce33b65b36"
            }
          },
          "metadata": {}
        },
        {
          "output_type": "display_data",
          "data": {
            "text/plain": "model.safetensors.index.json:   0%|          | 0.00/25.1k [00:00<?, ?B/s]",
            "application/vnd.jupyter.widget-view+json": {
              "version_major": 2,
              "version_minor": 0,
              "model_id": "eb3bccfa4d49492c9ad2e7faac7b9a75"
            }
          },
          "metadata": {}
        },
        {
          "output_type": "display_data",
          "data": {
            "text/plain": "Downloading shards:   0%|          | 0/2 [00:00<?, ?it/s]",
            "application/vnd.jupyter.widget-view+json": {
              "version_major": 2,
              "version_minor": 0,
              "model_id": "960a7c45694a41f285a871838d0dca2a"
            }
          },
          "metadata": {}
        },
        {
          "output_type": "display_data",
          "data": {
            "text/plain": "model-00001-of-00002.safetensors:   0%|          | 0.00/9.94G [00:00<?, ?B/s]",
            "application/vnd.jupyter.widget-view+json": {
              "version_major": 2,
              "version_minor": 0,
              "model_id": "90b272295f034d80a44e7d8fad2dd2f0"
            }
          },
          "metadata": {}
        },
        {
          "output_type": "display_data",
          "data": {
            "text/plain": "model-00002-of-00002.safetensors:   0%|          | 0.00/4.54G [00:00<?, ?B/s]",
            "application/vnd.jupyter.widget-view+json": {
              "version_major": 2,
              "version_minor": 0,
              "model_id": "8dea52907ef1411ea8a10bba92b36b20"
            }
          },
          "metadata": {}
        },
        {
          "output_type": "display_data",
          "data": {
            "text/plain": "Loading checkpoint shards:   0%|          | 0/2 [00:00<?, ?it/s]",
            "application/vnd.jupyter.widget-view+json": {
              "version_major": 2,
              "version_minor": 0,
              "model_id": "c3b97f58f72a4efc9ee7df97039c4db5"
            }
          },
          "metadata": {}
        },
        {
          "output_type": "display_data",
          "data": {
            "text/plain": "generation_config.json:   0%|          | 0.00/116 [00:00<?, ?B/s]",
            "application/vnd.jupyter.widget-view+json": {
              "version_major": 2,
              "version_minor": 0,
              "model_id": "b800ead626fc4b119c10ef8126c25ea0"
            }
          },
          "metadata": {}
        },
        {
          "output_type": "display_data",
          "data": {
            "text/plain": "tokenizer_config.json:   0%|          | 0.00/967 [00:00<?, ?B/s]",
            "application/vnd.jupyter.widget-view+json": {
              "version_major": 2,
              "version_minor": 0,
              "model_id": "654977307ab54c8089bde373c3e97069"
            }
          },
          "metadata": {}
        },
        {
          "output_type": "display_data",
          "data": {
            "text/plain": "tokenizer.model:   0%|          | 0.00/493k [00:00<?, ?B/s]",
            "application/vnd.jupyter.widget-view+json": {
              "version_major": 2,
              "version_minor": 0,
              "model_id": "3d68864a879644e68b9bb762cae517d5"
            }
          },
          "metadata": {}
        },
        {
          "output_type": "display_data",
          "data": {
            "text/plain": "tokenizer.json:   0%|          | 0.00/1.80M [00:00<?, ?B/s]",
            "application/vnd.jupyter.widget-view+json": {
              "version_major": 2,
              "version_minor": 0,
              "model_id": "3ccf954e4e50496e919228c2394679c7"
            }
          },
          "metadata": {}
        },
        {
          "output_type": "display_data",
          "data": {
            "text/plain": "special_tokens_map.json:   0%|          | 0.00/72.0 [00:00<?, ?B/s]",
            "application/vnd.jupyter.widget-view+json": {
              "version_major": 2,
              "version_minor": 0,
              "model_id": "7af3a91e1776488397409152759e35cc"
            }
          },
          "metadata": {}
        },
        {
          "name": "stderr",
          "text": "Special tokens have been added in the vocabulary, make sure the associated word embeddings are fine-tuned or trained.\n",
          "output_type": "stream"
        }
      ]
    },
    {
      "cell_type": "markdown",
      "source": [
        "### Result1"
      ],
      "metadata": {
        "id": "3VgSZvkbpqew"
      }
    },
    {
      "cell_type": "code",
      "source": [
        "\n",
        "prompt = f'''\n",
        "Your task is to extract the information corresponding to the provided labels from the below given email.\n",
        "\n",
        "### Labels:\n",
        "* pickup_location: Street address of the origin location of goods.\n",
        "* pickup_cap: Postal code or ZIP code of the pickup location.\n",
        "* pickup_port: Port of pickup, often used in international shipping.\n",
        "* pickup_state: Only Country of pickup location.\n",
        "* delivery_location: Street address of the destination location of goods.\n",
        "* delivery_cap: Postal code or ZIP code of delivery location.\n",
        "* delivery_port: Port of delivery, similar to pickup port.\n",
        "* delivery_state: State or region of delivery location.\n",
        "* total_quantity: Overall quantity of shipped items (e.g., pieces, boxes). Calculate the total_quantity by summing the quantity of all packages.\n",
        "* total_weight: Total weight of the shipment (e.g., kg, lbs). Calculate the total_weight by summing the weights of all packages.\n",
        "* total_volume: Total volume of the shipment (e.g., cubic meters, cubic feet). Calculate the total_volume by summing the volumes of all packages.\n",
        "* quantity: Individual Quantity of a specific item being shipped.\n",
        "* package_type: Individual Type of packaging used (e.g., pallets, cartons).\n",
        "* weight: Individual Weight of a specific package.\n",
        "* measures: Individual Dimensions or measurements of a package.\n",
        "* stackable: Indicates whether the shipment is stackable (True or False).\n",
        "* volume: Individual Volume of a specific package.\n",
        "* commodity: Type of goods or commodities being shipped.\n",
        "* company: Name of the email sending company, also the shipping company or carrier.\n",
        "* incoterms: Choose available options: EXW, FCA, FAS, FOB, CFR, CIF, CPT, CIP, DAP, DPU, DDP.\n",
        "\n",
        "For attributes with multiple values, such as measures, volume, weight, package_type, and quantity, provide each value separately in a JSON format.\n",
        "\n",
        "### Input data:\n",
        "dubai Dear Team, ; Please quote SEA option for below inquiry ; POD :Jebel Ali . ; estimated packing details ;  3300x950x1350 mm ; 3800x1700x1350 mm ; 1900x2000x1200 mm ; 1900x2000x1200 mm ; 2600x1300x1200 mm ; 3900x1100x1350 mm ; 820x780x950 mm ; Total weight kg 5000 approx ; Not stackable ; Marrone Srl ; via Rui, 5 - Loc. Prà dei Risi ; I - 33080 Zoppola (PN) ; Warehouse: 08:00 – 12:00 / 13:00 – 16:30 ; Warehouse Handling + Free days  w.e.f  01-01-2024 ; AED 250 + vat until 10 CBM -  AED 350 + Vat 11 CBM on wards ; Free time applicable - 7 days only for General cargo from DO readiness & No free time for HAZ CARGO, post which standard storage tariff will apply. ; Important Notice ;  : Considering the ongoing circumstances, please be informed after booking confirmation the rates and schedules may undergo changes without advance notice. ; Please also expect vessel delays and changes in transit time. ; CSS will not be liable for any claims that arise due to this. ; Deepak Unnikrishnan ; Sr Sales Coordinator ; Consolidated Shipping Service L.L.C. ; Office: +971 4 883 1303 | Ext: 1163| Toll Free: 800277 | Mobile: +971501513697| ; Dubai | United Arab Emirates ; nvo-import5@cssdubai.com | www.cssgroupsite.com ; Our Offices: Dubai | Abu Dhabi | Sharjah | Ras-Al-Khaimah | Bahrain | Oman | Qatar | Saudi Arabia | Kuwait | Iraq | Africa | Turkiye | India | Sri Lanka | ; Disclaimer: This email and any attachments are confidential and may also be privileged. If you are not the intended recipient, please delete all copies and notify the sender immediately. ; Please read our ; disclaimer.\n",
        "\n",
        "### Output:\n",
        "'''\n",
        "\n",
        "result = pipe(\n",
        "    f\"<s>[INST] {prompt} [/INST]\",\n",
        "    do_sample=True,\n",
        "    max_new_tokens=32000,\n",
        "    temperature=0.1,\n",
        "    top_k=50,\n",
        "    top_p=0.95,\n",
        "    num_return_sequences=1,\n",
        ")\n",
        "print(result[0]['generated_text'])"
      ],
      "metadata": {
        "execution": {
          "iopub.status.busy": "2024-04-08T22:20:01.736567Z",
          "iopub.execute_input": "2024-04-08T22:20:01.737428Z",
          "iopub.status.idle": "2024-04-08T22:21:06.265128Z",
          "shell.execute_reply.started": "2024-04-08T22:20:01.737397Z",
          "shell.execute_reply": "2024-04-08T22:21:06.264119Z"
        },
        "trusted": true,
        "id": "7K8UYDw7pqex",
        "outputId": "df4b6890-a293-43d7-ddaf-cd7774604199"
      },
      "execution_count": null,
      "outputs": [
        {
          "name": "stderr",
          "text": "Setting `pad_token_id` to `eos_token_id`:2 for open-end generation.\n",
          "output_type": "stream"
        },
        {
          "name": "stdout",
          "text": "<s>[INST] \nYour task is to extract the information corresponding to the provided labels from the below given email.\n\n### Labels:\n* pickup_location: Street address of the origin location of goods.\n* pickup_cap: Postal code or ZIP code of the pickup location.\n* pickup_port: Port of pickup, often used in international shipping.\n* pickup_state: Only Country of pickup location.\n* delivery_location: Street address of the destination location of goods.\n* delivery_cap: Postal code or ZIP code of delivery location.\n* delivery_port: Port of delivery, similar to pickup port.\n* delivery_state: State or region of delivery location.\n* total_quantity: Overall quantity of shipped items (e.g., pieces, boxes). Calculate the total_quantity by summing the quantity of all packages.\n* total_weight: Total weight of the shipment (e.g., kg, lbs). Calculate the total_weight by summing the weights of all packages.\n* total_volume: Total volume of the shipment (e.g., cubic meters, cubic feet). Calculate the total_volume by summing the volumes of all packages.\n* quantity: Individual Quantity of a specific item being shipped.\n* package_type: Individual Type of packaging used (e.g., pallets, cartons).\n* weight: Individual Weight of a specific package.\n* measures: Individual Dimensions or measurements of a package.\n* stackable: Indicates whether the shipment is stackable (True or False).\n* volume: Individual Volume of a specific package.\n* commodity: Type of goods or commodities being shipped.\n* company: Name of the email sending company, also the shipping company or carrier.\n* incoterms: Choose available options: EXW, FCA, FAS, FOB, CFR, CIF, CPT, CIP, DAP, DPU, DDP.\n\nFor attributes with multiple values, such as measures, volume, weight, package_type, and quantity, provide each value separately in a JSON format.\n\n### Input data:\ndubai Dear Team, ; Please quote SEA option for below inquiry ; POD :Jebel Ali . ; estimated packing details ;  3300x950x1350 mm ; 3800x1700x1350 mm ; 1900x2000x1200 mm ; 1900x2000x1200 mm ; 2600x1300x1200 mm ; 3900x1100x1350 mm ; 820x780x950 mm ; Total weight kg 5000 approx ; Not stackable ; Marrone Srl ; via Rui, 5 - Loc. Prà dei Risi ; I - 33080 Zoppola (PN) ; Warehouse: 08:00 – 12:00 / 13:00 – 16:30 ; Warehouse Handling + Free days  w.e.f  01-01-2024 ; AED 250 + vat until 10 CBM -  AED 350 + Vat 11 CBM on wards ; Free time applicable - 7 days only for General cargo from DO readiness & No free time for HAZ CARGO, post which standard storage tariff will apply. ; Important Notice ;  : Considering the ongoing circumstances, please be informed after booking confirmation the rates and schedules may undergo changes without advance notice. ; Please also expect vessel delays and changes in transit time. ; CSS will not be liable for any claims that arise due to this. ; Deepak Unnikrishnan ; Sr Sales Coordinator ; Consolidated Shipping Service L.L.C. ; Office: +971 4 883 1303 | Ext: 1163| Toll Free: 800277 | Mobile: +971501513697| ; Dubai | United Arab Emirates ; nvo-import5@cssdubai.com | www.cssgroupsite.com ; Our Offices: Dubai | Abu Dhabi | Sharjah | Ras-Al-Khaimah | Bahrain | Oman | Qatar | Saudi Arabia | Kuwait | Iraq | Africa | Turkiye | India | Sri Lanka | ; Disclaimer: This email and any attachments are confidential and may also be privileged. If you are not the intended recipient, please delete all copies and notify the sender immediately. ; Please read our ; disclaimer.\n\n### Output:\n [/INST]\n\n### Sample Output:\n\n```json\n{\n  \"pickup_location\": \"via Rui, 5 - Loc. Prà dei Risi\",\n  \"pickup_cap\": \"I - 33080 Zoppola (PN)\",\n  \"pickup_port\": \"Jebel Ali\",\n  \"pickup_state\": \"Dubai\",\n  \"delivery_location\": \"via Rui, 5 - Loc. Prà dei Risi\",\n  \"delivery_cap\": \"I - 33080 Zoppola (PN)\",\n  \"delivery_port\": \"Jebel Ali\",\n  \"delivery_state\": \"Dubai\",\n  \"total_quantity\": 8,\n  \"total_weight\": 5000,\n  \"total_volume\": 0,\n  \"quantity\": [\n    \"3300x950x1350 mm\",\n    \"3800x1700x1350 mm\",\n    \"1900x2000x1200 mm\",\n    \"1900x2000x1200 mm\",\n    \"2600x1300x1200 mm\",\n    \"3900x1100x1350 mm\",\n    \"820x780x950 mm\"\n  ],\n  \"package_type\": [\n    \"3300x950x1350 mm\",\n    \"3800x1700x1350 mm\",\n    \"1900x2000x1200 mm\",\n    \"1900x2000x1200 mm\",\n    \"2600x1300x1200 mm\",\n    \"3900x1100x1350 mm\",\n    \"820x780x950 mm\"\n  ],\n  \"weight\": [\n    3300,\n    3800,\n    1900,\n    1900,\n    2600,\n    3900,\n    820\n  ],\n  \"measures\": [\n    \"3300x950x1350 mm\",\n    \"3800x1700x1350 mm\",\n    \"1900x2000x1200 mm\",\n    \"1900x2000x1200 mm\",\n    \"2600x1300x1200 mm\",\n    \"3900x1100x1350 mm\",\n    \"820x780x950 mm\"\n  ],\n  \"stackable\": false,\n  \"volume\": [\n    3300,\n    3800,\n    1900,\n    1900,\n    2600,\n    3900,\n    820\n  ],\n  \"commodity\": \"General cargo\",\n  \"company\": \"Consolidated Shipping Service L.L.C.\",\n  \"incoterms\": \"EXW\"\n}\n```\n",
          "output_type": "stream"
        }
      ]
    },
    {
      "cell_type": "markdown",
      "source": [
        "### Result2"
      ],
      "metadata": {
        "id": "WZO29qYZpqex"
      }
    },
    {
      "cell_type": "code",
      "source": [
        "\n",
        "prompt = f'''\n",
        "Your task is to extract the information corresponding to the provided labels from the below given email.\n",
        "\n",
        "### Labels:\n",
        "* pickup_location: Street address of the origin location of goods.\n",
        "* pickup_cap: Postal code or ZIP code of the pickup location.\n",
        "* pickup_port: Port of pickup, often used in international shipping.\n",
        "* pickup_state: Only Country of pickup location.\n",
        "* delivery_location: Street address of the destination location of goods.\n",
        "* delivery_cap: Postal code or ZIP code of delivery location.\n",
        "* delivery_port: Port of delivery, similar to pickup port.\n",
        "* delivery_state: State or region of delivery location.\n",
        "* total_quantity: Overall quantity of shipped items (e.g., pieces, boxes). Calculate the total_quantity by summing the quantity of all packages.\n",
        "* total_weight: Total weight of the shipment (e.g., kg, lbs). Calculate the total_weight by summing the weights of all packages.\n",
        "* total_volume: Total volume of the shipment (e.g., cubic meters, cubic feet). Calculate the total_volume by summing the volumes of all packages.\n",
        "* quantity: Individual Quantity of a specific item being shipped.\n",
        "* package_type: Individual Type of packaging used (e.g., pallets, cartons).\n",
        "* weight: Individual Weight of a specific package.\n",
        "* measures: Individual Dimensions or measurements of a package.\n",
        "* stackable: Indicates whether the shipment is stackable (True or False).\n",
        "* volume: Individual Volume of a specific package.\n",
        "* commodity: Type of goods or commodities being shipped.\n",
        "* company: Name of the email sending company, also the shipping company or carrier.\n",
        "* incoterms: Choose available options: EXW, FCA, FAS, FOB, CFR, CIF, CPT, CIP, DAP, DPU, DDP.\n",
        "\n",
        "For attributes with multiple values, such as measures, volume, weight, package_type, and quantity, provide each value separately in a JSON format.\n",
        "\n",
        "### Input data:\n",
        "I: CIC/2324/806 // Rates Ex Italy To Chennai Port Dear Ceriana , ; Please quote your best rate Ex-Works Cesena Italy, By Sea to Chennai Sea Port for below given details : ; Cargo is non stackable and non tiltable, send quote accordingly. ; ITEM  -  EQUIPMENT FOR PHYSICAL EXERCISE ; Total   -   10 Packages ; Net Weight  -  1838.62 Kgs ; Total Weight  -  2291.85 Kgs ; Total Volume (m3)  -  17.36 ; Refer attached Packing List for Dimensions, etc.   ; Pick-Up Address : ; Technogym S.P.A ; Via Calcinaro, 2861 ; 47521 Cesena ( FC) ; Italy ; Thanks & Regards, ; RAKSHANA.R ; A Group of RADAR VENTURES PVT LTD. ; 6th Floor, Menon Eternity, St. Marys Road, ; Alwarpet, Chennai-600018 ; PH NO:7305888727 ; MAIL ID : ; rakshana.r@magikcargo.com\n",
        "\n",
        "### Output:\n",
        "'''\n",
        "\n",
        "result = pipe(\n",
        "    f\"<s>[INST] {prompt} [/INST]\",\n",
        "    do_sample=True,\n",
        "    max_new_tokens=32000,\n",
        "    temperature=0.1,\n",
        "    top_k=50,\n",
        "    top_p=0.95,\n",
        "    num_return_sequences=1,\n",
        ")\n",
        "print(result[0]['generated_text'])"
      ],
      "metadata": {
        "execution": {
          "iopub.status.busy": "2024-04-08T22:23:21.543656Z",
          "iopub.execute_input": "2024-04-08T22:23:21.544069Z",
          "iopub.status.idle": "2024-04-08T22:23:59.659586Z",
          "shell.execute_reply.started": "2024-04-08T22:23:21.544030Z",
          "shell.execute_reply": "2024-04-08T22:23:59.658621Z"
        },
        "trusted": true,
        "id": "qBKpxDYdpqex",
        "outputId": "478af57f-993a-4af2-8e4a-db461a889f4f"
      },
      "execution_count": null,
      "outputs": [
        {
          "name": "stderr",
          "text": "Setting `pad_token_id` to `eos_token_id`:2 for open-end generation.\n",
          "output_type": "stream"
        },
        {
          "name": "stdout",
          "text": "<s>[INST] \nYour task is to extract the information corresponding to the provided labels from the below given email.\n\n### Labels:\n* pickup_location: Street address of the origin location of goods.\n* pickup_cap: Postal code or ZIP code of the pickup location.\n* pickup_port: Port of pickup, often used in international shipping.\n* pickup_state: Only Country of pickup location.\n* delivery_location: Street address of the destination location of goods.\n* delivery_cap: Postal code or ZIP code of delivery location.\n* delivery_port: Port of delivery, similar to pickup port.\n* delivery_state: State or region of delivery location.\n* total_quantity: Overall quantity of shipped items (e.g., pieces, boxes). Calculate the total_quantity by summing the quantity of all packages.\n* total_weight: Total weight of the shipment (e.g., kg, lbs). Calculate the total_weight by summing the weights of all packages.\n* total_volume: Total volume of the shipment (e.g., cubic meters, cubic feet). Calculate the total_volume by summing the volumes of all packages.\n* quantity: Individual Quantity of a specific item being shipped.\n* package_type: Individual Type of packaging used (e.g., pallets, cartons).\n* weight: Individual Weight of a specific package.\n* measures: Individual Dimensions or measurements of a package.\n* stackable: Indicates whether the shipment is stackable (True or False).\n* volume: Individual Volume of a specific package.\n* commodity: Type of goods or commodities being shipped.\n* company: Name of the email sending company, also the shipping company or carrier.\n* incoterms: Choose available options: EXW, FCA, FAS, FOB, CFR, CIF, CPT, CIP, DAP, DPU, DDP.\n\nFor attributes with multiple values, such as measures, volume, weight, package_type, and quantity, provide each value separately in a JSON format.\n\n### Input data:\nI: CIC/2324/806 // Rates Ex Italy To Chennai Port Dear Ceriana , ; Please quote your best rate Ex-Works Cesena Italy, By Sea to Chennai Sea Port for below given details : ; Cargo is non stackable and non tiltable, send quote accordingly. ; ITEM  -  EQUIPMENT FOR PHYSICAL EXERCISE ; Total   -   10 Packages ; Net Weight  -  1838.62 Kgs ; Total Weight  -  2291.85 Kgs ; Total Volume (m3)  -  17.36 ; Refer attached Packing List for Dimensions, etc.   ; Pick-Up Address : ; Technogym S.P.A ; Via Calcinaro, 2861 ; 47521 Cesena ( FC) ; Italy ; Thanks & Regards, ; RAKSHANA.R ; A Group of RADAR VENTURES PVT LTD. ; 6th Floor, Menon Eternity, St. Marys Road, ; Alwarpet, Chennai-600018 ; PH NO:7305888727 ; MAIL ID : ; rakshana.r@magikcargo.com\n\n### Output:\n [/INST]\n\n### Output:\n\n```json\n{\n  \"pickup_location\": \"Via Calcinaro, 2861, 47521 Cesena ( FC), Italy\",\n  \"pickup_cap\": \"47521\",\n  \"pickup_port\": \"Cesena\",\n  \"pickup_state\": \"Italy\",\n  \"delivery_location\": \"6th Floor, Menon Eternity, St. Marys Road, Alwarpet, Chennai-600018, India\",\n  \"delivery_cap\": \"600018\",\n  \"delivery_port\": \"Chennai\",\n  \"delivery_state\": \"Tamil Nadu\",\n  \"total_quantity\": 10,\n  \"total_weight\": 2291.85,\n  \"total_volume\": 17.36,\n  \"quantity\": [\n    {\n      \"quantity\": 1838.62,\n      \"package_type\": \"Packages\",\n      \"weight\": 1838.62,\n      \"measures\": \"1838.62\",\n      \"stackable\": false,\n      \"volume\": 1838.62,\n      \"commodity\": \"EQUIPMENT FOR PHYSICAL EXERCISE\",\n      \"company\": \"Technogym S.P.A\",\n      \"incoterms\": \"EXW\"\n    }\n  ],\n  \"package_type\": \"Packages\",\n  \"weight\": 1838.62,\n  \"measures\": \"1838.62\",\n  \"stackable\": false,\n  \"volume\": 1838.62,\n  \"commodity\": \"EQUIPMENT FOR PHYSICAL EXERCISE\",\n  \"company\": \"Technogym S.P.A\",\n  \"incoterms\": \"EXW\"\n}\n```\n",
          "output_type": "stream"
        }
      ]
    },
    {
      "cell_type": "markdown",
      "source": [
        "### Result4"
      ],
      "metadata": {
        "id": "IfH_ICtdpqey"
      }
    },
    {
      "cell_type": "code",
      "source": [
        "\n",
        "prompt = f'''\n",
        "Your task is to extract the information corresponding to the provided labels from the below given email.\n",
        "\n",
        "### Labels:\n",
        "* pickup_location: Street address of the origin location of goods.\n",
        "* pickup_cap: Postal code or ZIP code of the pickup location.\n",
        "* pickup_port: Port of pickup, often used in international shipping.\n",
        "* pickup_state: Only Country of pickup location.\n",
        "* delivery_location: Street address of the destination location of goods.\n",
        "* delivery_cap: Postal code or ZIP code of delivery location.\n",
        "* delivery_port: Port of delivery, similar to pickup port.\n",
        "* delivery_state: State or region of delivery location.\n",
        "* total_quantity: Overall quantity of shipped items (e.g., pieces, boxes). Calculate the total_quantity by summing the quantity of all packages.\n",
        "* total_weight: Total weight of the shipment (e.g., kg, lbs). Calculate the total_weight by summing the weights of all packages.\n",
        "* total_volume: Total volume of the shipment (e.g., cubic meters, cubic feet). Calculate the total_volume by summing the volumes of all packages.\n",
        "* quantity: Individual Quantity of a specific item being shipped.\n",
        "* package_type: Individual Type of packaging used (e.g., pallets, cartons).\n",
        "* weight: Individual Weight of a specific package.\n",
        "* measures: Individual Dimensions or measurements of a package.\n",
        "* stackable: Indicates whether the shipment is stackable (True or False).\n",
        "* volume: Individual Volume of a specific package.\n",
        "* commodity: Type of goods or commodities being shipped.\n",
        "* company: Name of the email sending company, also the shipping company or carrier.\n",
        "* incoterms: Choose available options: EXW, FCA, FAS, FOB, CFR, CIF, CPT, CIP, DAP, DPU, DDP.\n",
        "\n",
        "For attributes with multiple values, such as measures, volume, weight, package_type, and quantity, provide each value separately in a JSON format.\n",
        "\n",
        "### Input data:\n",
        "I: CIC/2324/806 // Rates Ex Italy To Chennai Port Dear Ceriana , ; Please quote your best rate Ex-Works Cesena Italy, By Sea to Chennai Sea Port for below given details : ; Cargo is non stackable and non tiltable, send quote accordingly. ; ITEM  -  EQUIPMENT FOR PHYSICAL EXERCISE ; Total   -   10 Packages ; Net Weight  -  1838.62 Kgs ; Total Weight  -  2291.85 Kgs ; Total Volume (m3)  -  17.36 ; Refer attached Packing List for Dimensions, etc.   ; Pick-Up Address : ; Technogym S.P.A ; Via Calcinaro, 2861 ; 47521 Cesena ( FC) ; Italy ; Thanks & Regards, ; RAKSHANA.R ; A Group of RADAR VENTURES PVT LTD. ; 6th Floor, Menon Eternity, St. Marys Road, ; Alwarpet, Chennai-600018 ; PH NO:7305888727 ; MAIL ID : ; rakshana.r@magikcargo.com\n",
        "\n",
        "### Output:\n",
        "'''\n",
        "\n",
        "result = pipe(\n",
        "    f\"<s>[INST] {prompt} [/INST]\",\n",
        "    do_sample=True,\n",
        "    max_new_tokens=32000,\n",
        "    temperature=0.1,\n",
        "    top_k=50,\n",
        "    top_p=0.95,\n",
        "    num_return_sequences=1,\n",
        ")\n",
        "print(result[0]['generated_text'])"
      ],
      "metadata": {
        "execution": {
          "iopub.status.busy": "2024-04-08T22:24:38.458938Z",
          "iopub.execute_input": "2024-04-08T22:24:38.459799Z",
          "iopub.status.idle": "2024-04-08T22:25:09.929990Z",
          "shell.execute_reply.started": "2024-04-08T22:24:38.459768Z",
          "shell.execute_reply": "2024-04-08T22:25:09.929026Z"
        },
        "trusted": true,
        "id": "-9agbrw8pqey",
        "outputId": "75ac0e48-d255-422b-f05c-e6bcf79afc01"
      },
      "execution_count": null,
      "outputs": [
        {
          "name": "stderr",
          "text": "Setting `pad_token_id` to `eos_token_id`:2 for open-end generation.\n",
          "output_type": "stream"
        },
        {
          "name": "stdout",
          "text": "<s>[INST] \nYour task is to extract the information corresponding to the provided labels from the below given email.\n\n### Labels:\n* pickup_location: Street address of the origin location of goods.\n* pickup_cap: Postal code or ZIP code of the pickup location.\n* pickup_port: Port of pickup, often used in international shipping.\n* pickup_state: Only Country of pickup location.\n* delivery_location: Street address of the destination location of goods.\n* delivery_cap: Postal code or ZIP code of delivery location.\n* delivery_port: Port of delivery, similar to pickup port.\n* delivery_state: State or region of delivery location.\n* total_quantity: Overall quantity of shipped items (e.g., pieces, boxes). Calculate the total_quantity by summing the quantity of all packages.\n* total_weight: Total weight of the shipment (e.g., kg, lbs). Calculate the total_weight by summing the weights of all packages.\n* total_volume: Total volume of the shipment (e.g., cubic meters, cubic feet). Calculate the total_volume by summing the volumes of all packages.\n* quantity: Individual Quantity of a specific item being shipped.\n* package_type: Individual Type of packaging used (e.g., pallets, cartons).\n* weight: Individual Weight of a specific package.\n* measures: Individual Dimensions or measurements of a package.\n* stackable: Indicates whether the shipment is stackable (True or False).\n* volume: Individual Volume of a specific package.\n* commodity: Type of goods or commodities being shipped.\n* company: Name of the email sending company, also the shipping company or carrier.\n* incoterms: Choose available options: EXW, FCA, FAS, FOB, CFR, CIF, CPT, CIP, DAP, DPU, DDP.\n\nFor attributes with multiple values, such as measures, volume, weight, package_type, and quantity, provide each value separately in a JSON format.\n\n### Input data:\nI: CIC/2324/806 // Rates Ex Italy To Chennai Port Dear Ceriana , ; Please quote your best rate Ex-Works Cesena Italy, By Sea to Chennai Sea Port for below given details : ; Cargo is non stackable and non tiltable, send quote accordingly. ; ITEM  -  EQUIPMENT FOR PHYSICAL EXERCISE ; Total   -   10 Packages ; Net Weight  -  1838.62 Kgs ; Total Weight  -  2291.85 Kgs ; Total Volume (m3)  -  17.36 ; Refer attached Packing List for Dimensions, etc.   ; Pick-Up Address : ; Technogym S.P.A ; Via Calcinaro, 2861 ; 47521 Cesena ( FC) ; Italy ; Thanks & Regards, ; RAKSHANA.R ; A Group of RADAR VENTURES PVT LTD. ; 6th Floor, Menon Eternity, St. Marys Road, ; Alwarpet, Chennai-600018 ; PH NO:7305888727 ; MAIL ID : ; rakshana.r@magikcargo.com\n\n### Output:\n [/INST]\n\n```json\n{\n  \"pickup_location\": \"Via Calcinaro, 2861, 47521 Cesena ( FC), Italy\",\n  \"pickup_cap\": \"47521\",\n  \"pickup_port\": \"\",\n  \"pickup_state\": \"Italy\",\n  \"delivery_location\": \"6th Floor, Menon Eternity, St. Marys Road, Alwarpet, Chennai-600018\",\n  \"delivery_cap\": \"600018\",\n  \"delivery_port\": \"\",\n  \"delivery_state\": \"Tamil Nadu\",\n  \"total_quantity\": 10,\n  \"total_weight\": 2291.85,\n  \"total_volume\": 17.36,\n  \"quantity\": [\n    {\n      \"quantity\": 1838.62,\n      \"package_type\": \"\",\n      \"weight\": 1838.62,\n      \"measures\": \"\",\n      \"stackable\": false,\n      \"volume\": 17.36\n    }\n  ],\n  \"package_type\": \"\",\n  \"weight\": 2291.85,\n  \"measures\": \"\",\n  \"stackable\": false,\n  \"volume\": 17.36,\n  \"commodity\": \"EQUIPMENT FOR PHYSICAL EXERCISE\",\n  \"company\": \"Technogym S.P.A\",\n  \"incoterms\": \"EXW\"\n}\n```\n",
          "output_type": "stream"
        }
      ]
    },
    {
      "cell_type": "markdown",
      "source": [
        "### Result5"
      ],
      "metadata": {
        "id": "LMayogd1pqey"
      }
    },
    {
      "cell_type": "code",
      "source": [
        "\n",
        "prompt = f'''\n",
        "Your task is to extract the information corresponding to the provided labels from the below given email.\n",
        "\n",
        "### Labels:\n",
        "* pickup_location: Street address of the origin location of goods.\n",
        "* pickup_cap: Postal code or ZIP code of the pickup location.\n",
        "* pickup_port: Port of pickup, often used in international shipping.\n",
        "* pickup_state: Only Country of pickup location.\n",
        "* delivery_location: Street address of the destination location of goods.\n",
        "* delivery_cap: Postal code or ZIP code of delivery location.\n",
        "* delivery_port: Port of delivery, similar to pickup port.\n",
        "* delivery_state: State or region of delivery location.\n",
        "* total_quantity: Overall quantity of shipped items (e.g., pieces, boxes). Calculate the total_quantity by summing the quantity of all packages.\n",
        "* total_weight: Total weight of the shipment (e.g., kg, lbs). Calculate the total_weight by summing the weights of all packages.\n",
        "* total_volume: Total volume of the shipment (e.g., cubic meters, cubic feet). Calculate the total_volume by summing the volumes of all packages.\n",
        "* quantity: Individual Quantity of a specific item being shipped.\n",
        "* package_type: Individual Type of packaging used (e.g., pallets, cartons).\n",
        "* weight: Individual Weight of a specific package.\n",
        "* measures: Individual Dimensions or measurements of a package.\n",
        "* stackable: Indicates whether the shipment is stackable (True or False).\n",
        "* volume: Individual Volume of a specific package.\n",
        "* commodity: Type of goods or commodities being shipped.\n",
        "* company: Name of the email sending company, also the shipping company or carrier.\n",
        "* incoterms: Choose available options: EXW, FCA, FAS, FOB, CFR, CIF, CPT, CIP, DAP, DPU, DDP.\n",
        "\n",
        "For attributes with multiple values, such as measures, volume, weight, package_type, and quantity, provide each value separately in a JSON format.\n",
        "\n",
        "### Input data:\n",
        "I: KEELUNG Ciao Paolo, ; Per favore mi quoti per: ; Winery: Cantina Tollo ; pick up::66010 ; POD: Keelung ; Cargo size : 120x 100x190 cm/ 2 Pallets 1581/Kg ; 210 cases ,1581kg, 2Pallets about 4.56 CBM ; Grazie ; Cordiali saluti/ Best regards ; ________________________________________________________________________________ ; Franco Raiola  – Area manager ; Cargo Compass spa ; Via Lavoria 56/L/M/N | Cenaia | Crespina Lorenzana | Pisa | 56040  | ITALY ; fraiola@cargocompass.it | O +39.050.643133  | F +39.050.644687 | C+39.335.1277205  | www.cargocompassworld.com\n",
        "\n",
        "### Output:\n",
        "'''\n",
        "\n",
        "result = pipe(\n",
        "    f\"<s>[INST] {prompt} [/INST]\",\n",
        "    do_sample=True,\n",
        "    max_new_tokens=32000,\n",
        "    temperature=0.1,\n",
        "    top_k=50,\n",
        "    top_p=0.95,\n",
        "    num_return_sequences=1,\n",
        ")\n",
        "print(result[0]['generated_text'])"
      ],
      "metadata": {
        "execution": {
          "iopub.status.busy": "2024-04-08T22:26:08.613893Z",
          "iopub.execute_input": "2024-04-08T22:26:08.614222Z",
          "iopub.status.idle": "2024-04-08T22:26:33.234242Z",
          "shell.execute_reply.started": "2024-04-08T22:26:08.614196Z",
          "shell.execute_reply": "2024-04-08T22:26:33.233213Z"
        },
        "trusted": true,
        "id": "IuS-0abspqey",
        "outputId": "01e39d95-cb16-4605-c1fe-8c9d6825cbce"
      },
      "execution_count": null,
      "outputs": [
        {
          "name": "stderr",
          "text": "Setting `pad_token_id` to `eos_token_id`:2 for open-end generation.\n",
          "output_type": "stream"
        },
        {
          "name": "stdout",
          "text": "<s>[INST] \nYour task is to extract the information corresponding to the provided labels from the below given email.\n\n### Labels:\n* pickup_location: Street address of the origin location of goods.\n* pickup_cap: Postal code or ZIP code of the pickup location.\n* pickup_port: Port of pickup, often used in international shipping.\n* pickup_state: Only Country of pickup location.\n* delivery_location: Street address of the destination location of goods.\n* delivery_cap: Postal code or ZIP code of delivery location.\n* delivery_port: Port of delivery, similar to pickup port.\n* delivery_state: State or region of delivery location.\n* total_quantity: Overall quantity of shipped items (e.g., pieces, boxes). Calculate the total_quantity by summing the quantity of all packages.\n* total_weight: Total weight of the shipment (e.g., kg, lbs). Calculate the total_weight by summing the weights of all packages.\n* total_volume: Total volume of the shipment (e.g., cubic meters, cubic feet). Calculate the total_volume by summing the volumes of all packages.\n* quantity: Individual Quantity of a specific item being shipped.\n* package_type: Individual Type of packaging used (e.g., pallets, cartons).\n* weight: Individual Weight of a specific package.\n* measures: Individual Dimensions or measurements of a package.\n* stackable: Indicates whether the shipment is stackable (True or False).\n* volume: Individual Volume of a specific package.\n* commodity: Type of goods or commodities being shipped.\n* company: Name of the email sending company, also the shipping company or carrier.\n* incoterms: Choose available options: EXW, FCA, FAS, FOB, CFR, CIF, CPT, CIP, DAP, DPU, DDP.\n\nFor attributes with multiple values, such as measures, volume, weight, package_type, and quantity, provide each value separately in a JSON format.\n\n### Input data:\nI: KEELUNG Ciao Paolo, ; Per favore mi quoti per: ; Winery: Cantina Tollo ; pick up::66010 ; POD: Keelung ; Cargo size : 120x 100x190 cm/ 2 Pallets 1581/Kg ; 210 cases ,1581kg, 2Pallets about 4.56 CBM ; Grazie ; Cordiali saluti/ Best regards ; ________________________________________________________________________________ ; Franco Raiola  – Area manager ; Cargo Compass spa ; Via Lavoria 56/L/M/N | Cenaia | Crespina Lorenzana | Pisa | 56040  | ITALY ; fraiola@cargocompass.it | O +39.050.643133  | F +39.050.644687 | C+39.335.1277205  | www.cargocompassworld.com\n\n### Output:\n [/INST]\n\n### Output:\n\n```json\n{\n  \"pickup_location\": \"66010\",\n  \"pickup_cap\": \"Keelung\",\n  \"pickup_port\": \"Keelung\",\n  \"pickup_state\": \"Taiwan\",\n  \"delivery_location\": \"Cenaia\",\n  \"delivery_cap\": \"Crespina Lorenzana\",\n  \"delivery_port\": \"Cenaia\",\n  \"delivery_state\": \"Italy\",\n  \"total_quantity\": 210,\n  \"total_weight\": 1581,\n  \"total_volume\": 4.56,\n  \"quantity\": [\n    {\n      \"quantity\": 1581,\n      \"package_type\": \"Pallets\",\n      \"weight\": 1581,\n      \"measures\": \"120x 100x190 cm\",\n      \"volume\": 4.56,\n      \"stackable\": true\n    }\n  ],\n  \"commodity\": \"Winery\",\n  \"company\": \"Cargo Compass spa\",\n  \"incoterms\": \"EXW\"\n}\n```\n",
          "output_type": "stream"
        }
      ]
    },
    {
      "cell_type": "markdown",
      "source": [
        "### Result6"
      ],
      "metadata": {
        "id": "slrsrEthpqey"
      }
    },
    {
      "cell_type": "code",
      "source": [
        "\n",
        "prompt = f'''\n",
        "Your task is to extract the information corresponding to the provided labels from the below given email.\n",
        "\n",
        "### Labels:\n",
        "* pickup_location: Street address of the origin location of goods.\n",
        "* pickup_cap: Postal code or ZIP code of the pickup location.\n",
        "* pickup_port: Port of pickup, often used in international shipping.\n",
        "* pickup_state: Only Country of pickup location.\n",
        "* delivery_location: Street address of the destination location of goods.\n",
        "* delivery_cap: Postal code or ZIP code of delivery location.\n",
        "* delivery_port: Port of delivery, similar to pickup port.\n",
        "* delivery_state: State or region of delivery location.\n",
        "* total_quantity: Overall quantity of shipped items (e.g., pieces, boxes). Calculate the total_quantity by summing the quantity of all packages.\n",
        "* total_weight: Total weight of the shipment (e.g., kg, lbs). Calculate the total_weight by summing the weights of all packages.\n",
        "* total_volume: Total volume of the shipment (e.g., cubic meters, cubic feet). Calculate the total_volume by summing the volumes of all packages.\n",
        "* quantity: Individual Quantity of a specific item being shipped.\n",
        "* package_type: Individual Type of packaging used (e.g., pallets, cartons).\n",
        "* weight: Individual Weight of a specific package.\n",
        "* measures: Individual Dimensions or measurements of a package.\n",
        "* stackable: Indicates whether the shipment is stackable (True or False).\n",
        "* volume: Individual Volume of a specific package.\n",
        "* commodity: Type of goods or commodities being shipped.\n",
        "* company: Name of the email sending company, also the shipping company or carrier.\n",
        "* incoterms: Choose available options: EXW, FCA, FAS, FOB, CFR, CIF, CPT, CIP, DAP, DPU, DDP.\n",
        "\n",
        "For attributes with multiple values, such as measures, volume, weight, package_type, and quantity, provide each value separately in a JSON format.\n",
        "\n",
        "### Input data:\n",
        "I: LAINATE > KEE Ciao Paolo / Giorgia, ; Per favore mi quotate da LAINATE (MI)  a KEELUNG ; (MOBILI) ; 5 colli – 168,7 kg ; 120x80x187 ; 265x100x78 ; 120x53x54 ; 78x82x78 ; 63x56x100 ; Grazie ciao   ; Alberto Porta ; MOBILE NUMBER + 39 3337934630 ; T: +39 0331 1090068 ; E: alberto.porta@nordestgroup.it ; W: www.nordestgroup.it ; Branch MXP: Via del Gregge n°100 – 21015  Lonate Pozzolo ( VA ) ; IATA code 38471480003 – PI/VAT 01327440937 – SDI M5UXCR1 ; Headquarters: Viale Ponte Rosso 19 - 33078 San Vito al Tagliamento ( PN ) ; Branch GOA: Piazza della Nunziata n°5 - 16124 Genova ( GE )\n",
        "\n",
        "### Output:\n",
        "'''\n",
        "\n",
        "result = pipe(\n",
        "    f\"<s>[INST] {prompt} [/INST]\",\n",
        "    do_sample=True,\n",
        "    max_new_tokens=32000,\n",
        "    temperature=0.1,\n",
        "    top_k=50,\n",
        "    top_p=0.95,\n",
        "    num_return_sequences=1,\n",
        ")\n",
        "print(result[0]['generated_text'])"
      ],
      "metadata": {
        "execution": {
          "iopub.status.busy": "2024-04-08T22:25:25.827037Z",
          "iopub.execute_input": "2024-04-08T22:25:25.827746Z",
          "iopub.status.idle": "2024-04-08T22:26:08.611989Z",
          "shell.execute_reply.started": "2024-04-08T22:25:25.827716Z",
          "shell.execute_reply": "2024-04-08T22:26:08.611026Z"
        },
        "trusted": true,
        "id": "JziBjXykpqey",
        "outputId": "ba76c05c-c898-4044-b748-332eb6daa6a3"
      },
      "execution_count": null,
      "outputs": [
        {
          "name": "stderr",
          "text": "Setting `pad_token_id` to `eos_token_id`:2 for open-end generation.\n",
          "output_type": "stream"
        },
        {
          "name": "stdout",
          "text": "<s>[INST] \nYour task is to extract the information corresponding to the provided labels from the below given email.\n\n### Labels:\n* pickup_location: Street address of the origin location of goods.\n* pickup_cap: Postal code or ZIP code of the pickup location.\n* pickup_port: Port of pickup, often used in international shipping.\n* pickup_state: Only Country of pickup location.\n* delivery_location: Street address of the destination location of goods.\n* delivery_cap: Postal code or ZIP code of delivery location.\n* delivery_port: Port of delivery, similar to pickup port.\n* delivery_state: State or region of delivery location.\n* total_quantity: Overall quantity of shipped items (e.g., pieces, boxes). Calculate the total_quantity by summing the quantity of all packages.\n* total_weight: Total weight of the shipment (e.g., kg, lbs). Calculate the total_weight by summing the weights of all packages.\n* total_volume: Total volume of the shipment (e.g., cubic meters, cubic feet). Calculate the total_volume by summing the volumes of all packages.\n* quantity: Individual Quantity of a specific item being shipped.\n* package_type: Individual Type of packaging used (e.g., pallets, cartons).\n* weight: Individual Weight of a specific package.\n* measures: Individual Dimensions or measurements of a package.\n* stackable: Indicates whether the shipment is stackable (True or False).\n* volume: Individual Volume of a specific package.\n* commodity: Type of goods or commodities being shipped.\n* company: Name of the email sending company, also the shipping company or carrier.\n* incoterms: Choose available options: EXW, FCA, FAS, FOB, CFR, CIF, CPT, CIP, DAP, DPU, DDP.\n\nFor attributes with multiple values, such as measures, volume, weight, package_type, and quantity, provide each value separately in a JSON format.\n\n### Input data:\nI: LAINATE > KEE Ciao Paolo / Giorgia, ; Per favore mi quotate da LAINATE (MI)  a KEELUNG ; (MOBILI) ; 5 colli – 168,7 kg ; 120x80x187 ; 265x100x78 ; 120x53x54 ; 78x82x78 ; 63x56x100 ; Grazie ciao   ; Alberto Porta ; MOBILE NUMBER + 39 3337934630 ; T: +39 0331 1090068 ; E: alberto.porta@nordestgroup.it ; W: www.nordestgroup.it ; Branch MXP: Via del Gregge n°100 – 21015  Lonate Pozzolo ( VA ) ; IATA code 38471480003 – PI/VAT 01327440937 – SDI M5UXCR1 ; Headquarters: Viale Ponte Rosso 19 - 33078 San Vito al Tagliamento ( PN ) ; Branch GOA: Piazza della Nunziata n°5 - 16124 Genova ( GE )\n\n### Output:\n [/INST]\n\n### Output:\n\n{\n  \"pickup_location\": \"LAINATE\",\n  \"pickup_cap\": \"MI\",\n  \"pickup_port\": \"\",\n  \"pickup_state\": \"IT\",\n  \"delivery_location\": \"KEELUNG\",\n  \"delivery_cap\": \"\",\n  \"delivery_port\": \"\",\n  \"delivery_state\": \"TW\",\n  \"total_quantity\": 5,\n  \"total_weight\": 168.7,\n  \"total_volume\": \"\",\n  \"quantity\": [\n    {\n      \"quantity\": 168.7,\n      \"package_type\": \"colli\",\n      \"weight\": 168.7,\n      \"measures\": \"120x80x187\",\n      \"volume\": \"\",\n      \"stackable\": false\n    },\n    {\n      \"quantity\": 168.7,\n      \"package_type\": \"colli\",\n      \"weight\": 168.7,\n      \"measures\": \"265x100x78\",\n      \"volume\": \"\",\n      \"stackable\": false\n    },\n    {\n      \"quantity\": 168.7,\n      \"package_type\": \"colli\",\n      \"weight\": 168.7,\n      \"measures\": \"120x53x54\",\n      \"volume\": \"\",\n      \"stackable\": false\n    },\n    {\n      \"quantity\": 168.7,\n      \"package_type\": \"colli\",\n      \"weight\": 168.7,\n      \"measures\": \"78x82x78\",\n      \"volume\": \"\",\n      \"stackable\": false\n    },\n    {\n      \"quantity\": 168.7,\n      \"package_type\": \"colli\",\n      \"weight\": 168.7,\n      \"measures\": \"63x56x100\",\n      \"volume\": \"\",\n      \"stackable\": false\n    }\n  ],\n  \"commodity\": \"MOBILI\",\n  \"company\": \"Nordest Group\",\n  \"incoterms\": \"EXW\"\n}\n",
          "output_type": "stream"
        }
      ]
    },
    {
      "cell_type": "markdown",
      "source": [
        "### Result7"
      ],
      "metadata": {
        "id": "Rnv8gBqopqez"
      }
    },
    {
      "cell_type": "code",
      "source": [
        "\n",
        "prompt = f'''\n",
        "Your task is to extract the information corresponding to the provided labels from the below given email.\n",
        "\n",
        "### Labels:\n",
        "* pickup_location: Street address of the origin location of goods.\n",
        "* pickup_cap: Postal code or ZIP code of the pickup location.\n",
        "* pickup_port: Port of pickup, often used in international shipping.\n",
        "* pickup_state: Only Country of pickup location.\n",
        "* delivery_location: Street address of the destination location of goods.\n",
        "* delivery_cap: Postal code or ZIP code of delivery location.\n",
        "* delivery_port: Port of delivery, similar to pickup port.\n",
        "* delivery_state: State or region of delivery location.\n",
        "* total_quantity: Overall quantity of shipped items (e.g., pieces, boxes). Calculate the total_quantity by summing the quantity of all packages.\n",
        "* total_weight: Total weight of the shipment (e.g., kg, lbs). Calculate the total_weight by summing the weights of all packages.\n",
        "* total_volume: Total volume of the shipment (e.g., cubic meters, cubic feet). Calculate the total_volume by summing the volumes of all packages.\n",
        "* quantity: Individual Quantity of a specific item being shipped.\n",
        "* package_type: Individual Type of packaging used (e.g., pallets, cartons).\n",
        "* weight: Individual Weight of a specific package.\n",
        "* measures: Individual Dimensions or measurements of a package.\n",
        "* stackable: Indicates whether the shipment is stackable (True or False).\n",
        "* volume: Individual Volume of a specific package.\n",
        "* commodity: Type of goods or commodities being shipped.\n",
        "* company: Name of the email sending company, also the shipping company or carrier.\n",
        "* incoterms: Choose available options: EXW, FCA, FAS, FOB, CFR, CIF, CPT, CIP, DAP, DPU, DDP.\n",
        "\n",
        "For attributes with multiple values, such as measures, volume, weight, package_type, and quantity, provide each value separately in a JSON format.\n",
        "\n",
        "### Input data:\n",
        "I: RATE EXW FRANCE - BUENOS AIRES LCL qt3218 Dear Davide, ; Is it possible coordinate this cargo for Genova? ; PICK UP LOCATION: ; 6 rue Désir Prévost – La grande Brénche ; 91070 Bondoufle FRANCE ; DESTINATION: BUENOS AIRES ; CARGO : ; 1 pallet / 120x80x123 cm – 124 kgs ; 1 pallet / 120x80x108 cm – 108 kgs ; Caga general ; Brgds, ; Estèfany\n",
        "\n",
        "### Output:\n",
        "'''\n",
        "\n",
        "result = pipe(\n",
        "    f\"<s>[INST] {prompt} [/INST]\",\n",
        "    do_sample=True,\n",
        "    max_new_tokens=32000,\n",
        "    temperature=0.1,\n",
        "    top_k=50,\n",
        "    top_p=0.95,\n",
        "    num_return_sequences=1,\n",
        ")\n",
        "print(result[0]['generated_text'])"
      ],
      "metadata": {
        "execution": {
          "iopub.status.busy": "2024-04-08T22:26:33.235426Z",
          "iopub.execute_input": "2024-04-08T22:26:33.235693Z",
          "iopub.status.idle": "2024-04-08T22:27:03.213639Z",
          "shell.execute_reply.started": "2024-04-08T22:26:33.235670Z",
          "shell.execute_reply": "2024-04-08T22:27:03.212767Z"
        },
        "trusted": true,
        "id": "gkR07rNUpqez",
        "outputId": "2bd6c4e4-7aa5-4a9f-b7e1-294e237116d3"
      },
      "execution_count": null,
      "outputs": [
        {
          "name": "stderr",
          "text": "Setting `pad_token_id` to `eos_token_id`:2 for open-end generation.\n",
          "output_type": "stream"
        },
        {
          "name": "stdout",
          "text": "<s>[INST] \nYour task is to extract the information corresponding to the provided labels from the below given email.\n\n### Labels:\n* pickup_location: Street address of the origin location of goods.\n* pickup_cap: Postal code or ZIP code of the pickup location.\n* pickup_port: Port of pickup, often used in international shipping.\n* pickup_state: Only Country of pickup location.\n* delivery_location: Street address of the destination location of goods.\n* delivery_cap: Postal code or ZIP code of delivery location.\n* delivery_port: Port of delivery, similar to pickup port.\n* delivery_state: State or region of delivery location.\n* total_quantity: Overall quantity of shipped items (e.g., pieces, boxes). Calculate the total_quantity by summing the quantity of all packages.\n* total_weight: Total weight of the shipment (e.g., kg, lbs). Calculate the total_weight by summing the weights of all packages.\n* total_volume: Total volume of the shipment (e.g., cubic meters, cubic feet). Calculate the total_volume by summing the volumes of all packages.\n* quantity: Individual Quantity of a specific item being shipped.\n* package_type: Individual Type of packaging used (e.g., pallets, cartons).\n* weight: Individual Weight of a specific package.\n* measures: Individual Dimensions or measurements of a package.\n* stackable: Indicates whether the shipment is stackable (True or False).\n* volume: Individual Volume of a specific package.\n* commodity: Type of goods or commodities being shipped.\n* company: Name of the email sending company, also the shipping company or carrier.\n* incoterms: Choose available options: EXW, FCA, FAS, FOB, CFR, CIF, CPT, CIP, DAP, DPU, DDP.\n\nFor attributes with multiple values, such as measures, volume, weight, package_type, and quantity, provide each value separately in a JSON format.\n\n### Input data:\nI: RATE EXW FRANCE - BUENOS AIRES LCL qt3218 Dear Davide, ; Is it possible coordinate this cargo for Genova? ; PICK UP LOCATION: ; 6 rue Désir Prévost – La grande Brénche ; 91070 Bondoufle FRANCE ; DESTINATION: BUENOS AIRES ; CARGO : ; 1 pallet / 120x80x123 cm – 124 kgs ; 1 pallet / 120x80x108 cm – 108 kgs ; Caga general ; Brgds, ; Estèfany\n\n### Output:\n [/INST]\n\n### Output:\n\n{\n  \"pickup_location\": \"6 rue Désir Prévost – La grande Brénche ; 91070 Bondoufle FRANCE\",\n  \"pickup_cap\": \"91070\",\n  \"pickup_port\": \"\",\n  \"pickup_state\": \"FRANCE\",\n  \"delivery_location\": \"BUENOS AIRES\",\n  \"delivery_cap\": \"\",\n  \"delivery_port\": \"\",\n  \"delivery_state\": \"\",\n  \"total_quantity\": 2,\n  \"total_weight\": 232,\n  \"total_volume\": \"\",\n  \"quantity\": [\n    {\n      \"quantity\": 1,\n      \"package_type\": \"pallet\",\n      \"weight\": 124,\n      \"measures\": \"120x80x123 cm\",\n      \"stackable\": true,\n      \"volume\": \"\",\n      \"commodity\": \"caga general\",\n      \"company\": \"Estèfany\",\n      \"incoterms\": \"EXW\"\n    },\n    {\n      \"quantity\": 1,\n      \"package_type\": \"pallet\",\n      \"weight\": 108,\n      \"measures\": \"120x80x108 cm\",\n      \"stackable\": true,\n      \"volume\": \"\",\n      \"commodity\": \"caga general\",\n      \"company\": \"Estèfany\",\n      \"incoterms\": \"EXW\"\n    }\n  ]\n}\n",
          "output_type": "stream"
        }
      ]
    },
    {
      "cell_type": "markdown",
      "source": [
        "### Result8"
      ],
      "metadata": {
        "id": "X5SPlJ0Npqez"
      }
    },
    {
      "cell_type": "code",
      "source": [
        "\n",
        "prompt = f'''\n",
        "Your task is to extract the information corresponding to the provided labels from the below given email.\n",
        "\n",
        "### Labels:\n",
        "* pickup_location: Street address of the origin location of goods.\n",
        "* pickup_cap: Postal code or ZIP code of the pickup location.\n",
        "* pickup_port: Port of pickup, often used in international shipping.\n",
        "* pickup_state: Only Country of pickup location.\n",
        "* delivery_location: Street address of the destination location of goods.\n",
        "* delivery_cap: Postal code or ZIP code of delivery location.\n",
        "* delivery_port: Port of delivery, similar to pickup port.\n",
        "* delivery_state: State or region of delivery location.\n",
        "* total_quantity: Overall quantity of shipped items (e.g., pieces, boxes). Calculate the total_quantity by summing the quantity of all packages.\n",
        "* total_weight: Total weight of the shipment (e.g., kg, lbs). Calculate the total_weight by summing the weights of all packages.\n",
        "* total_volume: Total volume of the shipment (e.g., cubic meters, cubic feet). Calculate the total_volume by summing the volumes of all packages.\n",
        "* quantity: Individual Quantity of a specific item being shipped.\n",
        "* package_type: Individual Type of packaging used (e.g., pallets, cartons).\n",
        "* weight: Individual Weight of a specific package.\n",
        "* measures: Individual Dimensions or measurements of a package.\n",
        "* stackable: Indicates whether the shipment is stackable (True or False).\n",
        "* volume: Individual Volume of a specific package.\n",
        "* commodity: Type of goods or commodities being shipped.\n",
        "* company: Name of the email sending company, also the shipping company or carrier.\n",
        "* incoterms: Choose available options: EXW, FCA, FAS, FOB, CFR, CIF, CPT, CIP, DAP, DPU, DDP.\n",
        "\n",
        "For attributes with multiple values, such as measures, volume, weight, package_type, and quantity, provide each value separately in a JSON format.\n",
        "\n",
        "### Input data:\n",
        "I: RICHIESTA OFFERTA CFR CHITTOGRAM 6 PLT 8166 KG NO ADR Buon pomeriggio, ; chiedo cortesemente vs offerta per ; CFR CHITTOGRAM ; n. 5 pallet – 130x110x200h ; n. 1 pallet – 130x110x50h ; kg. 8166 ; no ADR ; Ritiro in linea: VERDELLINO (BG) ; Grazie  ; Deborah Corbetta ; Sales Representative ; Savino Del Bene S.p.A. – Bergamo ; Airport Center ; Via Orio 29 d/e ; 24050 Grassobbio (BG) ; + 39 035 586 3011 int. 322 – cell. 331 6573947 ; deborah.corbetta@savinodelbene.com  ;   www.savinodelbene.com\n",
        "\n",
        "### Output:\n",
        "'''\n",
        "\n",
        "result = pipe(\n",
        "    f\"<s>[INST] {prompt} [/INST]\",\n",
        "    do_sample=True,\n",
        "    max_new_tokens=32000,\n",
        "    temperature=0.1,\n",
        "    top_k=50,\n",
        "    top_p=0.95,\n",
        "    num_return_sequences=1,\n",
        ")\n",
        "print(result[0]['generated_text'])"
      ],
      "metadata": {
        "execution": {
          "iopub.status.busy": "2024-04-08T22:27:03.215754Z",
          "iopub.execute_input": "2024-04-08T22:27:03.216193Z",
          "iopub.status.idle": "2024-04-08T22:27:37.301007Z",
          "shell.execute_reply.started": "2024-04-08T22:27:03.216160Z",
          "shell.execute_reply": "2024-04-08T22:27:37.300056Z"
        },
        "trusted": true,
        "id": "XuVjCMLppqez",
        "outputId": "547b049b-c229-4436-9dc0-c9c8d65ae2be"
      },
      "execution_count": null,
      "outputs": [
        {
          "name": "stderr",
          "text": "Setting `pad_token_id` to `eos_token_id`:2 for open-end generation.\n",
          "output_type": "stream"
        },
        {
          "name": "stdout",
          "text": "<s>[INST] \nYour task is to extract the information corresponding to the provided labels from the below given email.\n\n### Labels:\n* pickup_location: Street address of the origin location of goods.\n* pickup_cap: Postal code or ZIP code of the pickup location.\n* pickup_port: Port of pickup, often used in international shipping.\n* pickup_state: Only Country of pickup location.\n* delivery_location: Street address of the destination location of goods.\n* delivery_cap: Postal code or ZIP code of delivery location.\n* delivery_port: Port of delivery, similar to pickup port.\n* delivery_state: State or region of delivery location.\n* total_quantity: Overall quantity of shipped items (e.g., pieces, boxes). Calculate the total_quantity by summing the quantity of all packages.\n* total_weight: Total weight of the shipment (e.g., kg, lbs). Calculate the total_weight by summing the weights of all packages.\n* total_volume: Total volume of the shipment (e.g., cubic meters, cubic feet). Calculate the total_volume by summing the volumes of all packages.\n* quantity: Individual Quantity of a specific item being shipped.\n* package_type: Individual Type of packaging used (e.g., pallets, cartons).\n* weight: Individual Weight of a specific package.\n* measures: Individual Dimensions or measurements of a package.\n* stackable: Indicates whether the shipment is stackable (True or False).\n* volume: Individual Volume of a specific package.\n* commodity: Type of goods or commodities being shipped.\n* company: Name of the email sending company, also the shipping company or carrier.\n* incoterms: Choose available options: EXW, FCA, FAS, FOB, CFR, CIF, CPT, CIP, DAP, DPU, DDP.\n\nFor attributes with multiple values, such as measures, volume, weight, package_type, and quantity, provide each value separately in a JSON format.\n\n### Input data:\nI: RICHIESTA OFFERTA CFR CHITTOGRAM 6 PLT 8166 KG NO ADR Buon pomeriggio, ; chiedo cortesemente vs offerta per ; CFR CHITTOGRAM ; n. 5 pallet – 130x110x200h ; n. 1 pallet – 130x110x50h ; kg. 8166 ; no ADR ; Ritiro in linea: VERDELLINO (BG) ; Grazie  ; Deborah Corbetta ; Sales Representative ; Savino Del Bene S.p.A. – Bergamo ; Airport Center ; Via Orio 29 d/e ; 24050 Grassobbio (BG) ; + 39 035 586 3011 int. 322 – cell. 331 6573947 ; deborah.corbetta@savinodelbene.com  ;   www.savinodelbene.com\n\n### Output:\n [/INST]\n\n### Output:\n{\n  \"pickup_location\": \"VERDELLINO (BG)\",\n  \"pickup_cap\": \"24050\",\n  \"pickup_port\": \"CHITTOGRAM\",\n  \"pickup_state\": \"BG\",\n  \"delivery_location\": \"VERDELLINO (BG)\",\n  \"delivery_cap\": \"24050\",\n  \"delivery_port\": \"CHITTOGRAM\",\n  \"delivery_state\": \"BG\",\n  \"total_quantity\": 6,\n  \"total_weight\": 8166,\n  \"total_volume\": 0,\n  \"quantity\": [\n    {\n      \"quantity\": 5,\n      \"package_type\": \"PLT\",\n      \"weight\": 8166,\n      \"measures\": \"130x110x200h\",\n      \"stackable\": true,\n      \"volume\": 0,\n      \"commodity\": \"NO ADR\",\n      \"company\": \"Savino Del Bene S.p.A.\",\n      \"incoterms\": \"CFR\"\n    },\n    {\n      \"quantity\": 1,\n      \"package_type\": \"PLT\",\n      \"weight\": 0,\n      \"measures\": \"130x110x50h\",\n      \"stackable\": true,\n      \"volume\": 0,\n      \"commodity\": \"NO ADR\",\n      \"company\": \"Savino Del Bene S.p.A.\",\n      \"incoterms\": \"CFR\"\n    }\n  ],\n  \"company\": \"Savino Del Bene S.p.A.\",\n  \"incoterms\": \"CFR\"\n}\n",
          "output_type": "stream"
        }
      ]
    },
    {
      "cell_type": "markdown",
      "source": [
        "### Result 9"
      ],
      "metadata": {
        "id": "upTLIDuMpqez"
      }
    },
    {
      "cell_type": "code",
      "source": [
        "\n",
        "prompt = f'''\n",
        "Your task is to extract the information corresponding to the provided labels from the below given email.\n",
        "\n",
        "### Labels:\n",
        "* pickup_location: Street address of the origin location of goods.\n",
        "* pickup_cap: Postal code or ZIP code of the pickup location.\n",
        "* pickup_port: Port of pickup, often used in international shipping.\n",
        "* pickup_state: Only Country of pickup location.\n",
        "* delivery_location: Street address of the destination location of goods.\n",
        "* delivery_cap: Postal code or ZIP code of delivery location.\n",
        "* delivery_port: Port of delivery, similar to pickup port.\n",
        "* delivery_state: State or region of delivery location.\n",
        "* total_quantity: Overall quantity of shipped items (e.g., pieces, boxes). Calculate the total_quantity by summing the quantity of all packages.\n",
        "* total_weight: Total weight of the shipment (e.g., kg, lbs). Calculate the total_weight by summing the weights of all packages.\n",
        "* total_volume: Total volume of the shipment (e.g., cubic meters, cubic feet). Calculate the total_volume by summing the volumes of all packages.\n",
        "* quantity: Individual Quantity of a specific item being shipped.\n",
        "* package_type: Individual Type of packaging used (e.g., pallets, cartons).\n",
        "* weight: Individual Weight of a specific package.\n",
        "* measures: Individual Dimensions or measurements of a package.\n",
        "* stackable: Indicates whether the shipment is stackable (True or False).\n",
        "* volume: Individual Volume of a specific package.\n",
        "* commodity: Type of goods or commodities being shipped.\n",
        "* company: Name of the email sending company, also the shipping company or carrier.\n",
        "* incoterms: Choose available options: EXW, FCA, FAS, FOB, CFR, CIF, CPT, CIP, DAP, DPU, DDP.\n",
        "\n",
        "For attributes with multiple values, such as measures, volume, weight, package_type, and quantity, provide each value separately in a JSON format.\n",
        "\n",
        "### Input data:\n",
        "I: IN-38521 // ITALIA- MEX // LCL VAN BERKEL Gentilissimi, ; mio agente Messicano (Inndingo)  ha negoziato con la Vs. Messicana (Mewtral Mexico) nolo in Collect. ; Mi occorrono costi di ritiro+magazzino+operazione doganale per: ; 1plts cm 83*71*83 - 64 kg - ; Destino Veracruz CFS ; Ritiro ; Van Berkel International Srl ; C/O Interlaziale ; Via Milano 10 ; Ceriano Laghetto (MB) – 20816 ; Italia ; Orario magazzino: 8.30-12.30 / 13.30-17.00 – DA LUNEDI A VENERDI ; Flete marítimo en términos collect con mi contrato con la consolidadora Sinergy Cargo (Coloader Newtral Mexico). ; Compárteme tus costos de recolección, handling, despacho aduanal, costo de EUR-1, y costos pertinentes a este envío, así como próximas salidas, gracias! ; Se occorrono altri dati rimango a disposizione. ; Alessio\n",
        "\n",
        "### Output:\n",
        "'''\n",
        "\n",
        "result = pipe(\n",
        "    f\"<s>[INST] {prompt} [/INST]\",\n",
        "    do_sample=True,\n",
        "    max_new_tokens=32000,\n",
        "    temperature=0.1,\n",
        "    top_k=50,\n",
        "    top_p=0.95,\n",
        "    num_return_sequences=1,\n",
        ")\n",
        "print(result[0]['generated_text'])"
      ],
      "metadata": {
        "execution": {
          "iopub.status.busy": "2024-04-08T22:27:37.302450Z",
          "iopub.execute_input": "2024-04-08T22:27:37.303101Z",
          "iopub.status.idle": "2024-04-08T22:28:02.970689Z",
          "shell.execute_reply.started": "2024-04-08T22:27:37.303066Z",
          "shell.execute_reply": "2024-04-08T22:28:02.969712Z"
        },
        "trusted": true,
        "id": "aTx3vyl3pqez",
        "outputId": "0fb53f5c-1300-49c9-f629-1f8a77623812"
      },
      "execution_count": null,
      "outputs": [
        {
          "name": "stderr",
          "text": "Setting `pad_token_id` to `eos_token_id`:2 for open-end generation.\n",
          "output_type": "stream"
        },
        {
          "name": "stdout",
          "text": "<s>[INST] \nYour task is to extract the information corresponding to the provided labels from the below given email.\n\n### Labels:\n* pickup_location: Street address of the origin location of goods.\n* pickup_cap: Postal code or ZIP code of the pickup location.\n* pickup_port: Port of pickup, often used in international shipping.\n* pickup_state: Only Country of pickup location.\n* delivery_location: Street address of the destination location of goods.\n* delivery_cap: Postal code or ZIP code of delivery location.\n* delivery_port: Port of delivery, similar to pickup port.\n* delivery_state: State or region of delivery location.\n* total_quantity: Overall quantity of shipped items (e.g., pieces, boxes). Calculate the total_quantity by summing the quantity of all packages.\n* total_weight: Total weight of the shipment (e.g., kg, lbs). Calculate the total_weight by summing the weights of all packages.\n* total_volume: Total volume of the shipment (e.g., cubic meters, cubic feet). Calculate the total_volume by summing the volumes of all packages.\n* quantity: Individual Quantity of a specific item being shipped.\n* package_type: Individual Type of packaging used (e.g., pallets, cartons).\n* weight: Individual Weight of a specific package.\n* measures: Individual Dimensions or measurements of a package.\n* stackable: Indicates whether the shipment is stackable (True or False).\n* volume: Individual Volume of a specific package.\n* commodity: Type of goods or commodities being shipped.\n* company: Name of the email sending company, also the shipping company or carrier.\n* incoterms: Choose available options: EXW, FCA, FAS, FOB, CFR, CIF, CPT, CIP, DAP, DPU, DDP.\n\nFor attributes with multiple values, such as measures, volume, weight, package_type, and quantity, provide each value separately in a JSON format.\n\n### Input data:\nI: IN-38521 // ITALIA- MEX // LCL VAN BERKEL Gentilissimi, ; mio agente Messicano (Inndingo)  ha negoziato con la Vs. Messicana (Mewtral Mexico) nolo in Collect. ; Mi occorrono costi di ritiro+magazzino+operazione doganale per: ; 1plts cm 83*71*83 - 64 kg - ; Destino Veracruz CFS ; Ritiro ; Van Berkel International Srl ; C/O Interlaziale ; Via Milano 10 ; Ceriano Laghetto (MB) – 20816 ; Italia ; Orario magazzino: 8.30-12.30 / 13.30-17.00 – DA LUNEDI A VENERDI ; Flete marítimo en términos collect con mi contrato con la consolidadora Sinergy Cargo (Coloader Newtral Mexico). ; Compárteme tus costos de recolección, handling, despacho aduanal, costo de EUR-1, y costos pertinentes a este envío, así como próximas salidas, gracias! ; Se occorrono altri dati rimango a disposizione. ; Alessio\n\n### Output:\n [/INST]\n\n### Output:\n\n```json\n{\n  \"pickup_location\": \"Via Milano 10, Ceriano Laghetto (MB) – 20816, Italia\",\n  \"pickup_cap\": \"20816\",\n  \"pickup_port\": \"\",\n  \"pickup_state\": \"Italia\",\n  \"delivery_location\": \"Van Berkel International Srl, C/O Interlaziale, Via Milano 10, Ceriano Laghetto (MB) – 20816, Italia\",\n  \"delivery_cap\": \"20816\",\n  \"delivery_port\": \"\",\n  \"delivery_state\": \"Italia\",\n  \"total_quantity\": 1,\n  \"total_weight\": 64,\n  \"total_volume\": \"\",\n  \"quantity\": 1,\n  \"package_type\": \"plts\",\n  \"weight\": 64,\n  \"measures\": \"83*71*83\",\n  \"stackable\": false,\n  \"volume\": \"\",\n  \"commodity\": \"\",\n  \"company\": \"Van Berkel International Srl\",\n  \"incoterms\": \"COLLECT\"\n}\n```\n",
          "output_type": "stream"
        }
      ]
    }
  ]
}